{
 "cells": [
  {
   "cell_type": "code",
   "execution_count": 1,
   "metadata": {},
   "outputs": [],
   "source": [
    "import numpy as np"
   ]
  },
  {
   "cell_type": "markdown",
   "metadata": {},
   "source": [
    "# The Dynamics of Internal Migration in S.Korea: A Markov Chain Analysis\n"
   ]
  },
  {
   "cell_type": "markdown",
   "metadata": {},
   "source": [
    "<img src=\"https://velog.velcdn.com/images/neoseurae12/post/0e578941-88f2-4dfc-a466-2ec0d3741f74/image.jpeg\" width=\"500px\">"
   ]
  },
  {
   "cell_type": "code",
   "execution_count": 2,
   "metadata": {},
   "outputs": [
    {
     "data": {
      "text/plain": [
       "{0: 'Seoul', 1: 'Metropolitan', 2: 'Rural'}"
      ]
     },
     "execution_count": 2,
     "metadata": {},
     "output_type": "execute_result"
    }
   ],
   "source": [
    "state = {\n",
    "    0: \"Seoul\",\n",
    "    1: \"Metropolitan\",\n",
    "    2: \"Rural\"\n",
    "}\n",
    "state"
   ]
  },
  {
   "cell_type": "markdown",
   "metadata": {},
   "source": [
    "## Transition Matrix\n",
    "<img src=\"https://velog.velcdn.com/images/neoseurae12/post/ae0b438d-d42d-422d-b4bf-3f993e1f6b26/image.jpeg\" width=\"400px\">"
   ]
  },
  {
   "cell_type": "code",
   "execution_count": 4,
   "metadata": {},
   "outputs": [
    {
     "data": {
      "text/plain": [
       "array([[0.644, 0.248, 0.108],\n",
       "       [0.122, 0.701, 0.177],\n",
       "       [0.055, 0.116, 0.829]])"
      ]
     },
     "execution_count": 4,
     "metadata": {},
     "output_type": "execute_result"
    }
   ],
   "source": [
    "A = np.array(\n",
    "    [[0.644, 0.248, 0.108],\n",
    "    [0.122, 0.701, 0.177],\n",
    "    [0.055, 0.116, 0.829]])\n",
    "A"
   ]
  },
  {
   "cell_type": "markdown",
   "metadata": {},
   "source": [
    "## Random Walk on Markov Chain"
   ]
  },
  {
   "cell_type": "code",
   "execution_count": 9,
   "metadata": {},
   "outputs": [
    {
     "name": "stdout",
     "output_type": "stream",
     "text": [
      "Rural ---> Metropolitan ---> Metropolitan ---> Metropolitan ---> Metropolitan ---> Metropolitan ---> Metropolitan ---> Metropolitan ---> Metropolitan ---> Rural ---> Rural ---> Metropolitan ---> stop\n"
     ]
    }
   ],
   "source": [
    "n = 12\n",
    "start_state = 2\n",
    "print(state[start_state], \"--->\", end=\" \")\n",
    "prev_state = start_state\n",
    "\n",
    "while n - 1:\n",
    "    curr_state = np.random.choice([0, 1, 2], p=A[prev_state])\n",
    "    print(state[curr_state], \"--->\", end=\" \")\n",
    "    prev_state = curr_state\n",
    "    n -= 1\n",
    "print(\"stop\")"
   ]
  },
  {
   "cell_type": "markdown",
   "metadata": {},
   "source": [
    "## Approach 1: Monte Carlo"
   ]
  },
  {
   "cell_type": "code",
   "execution_count": 29,
   "metadata": {},
   "outputs": [
    {
     "name": "stdout",
     "output_type": "stream",
     "text": [
      "π = \n",
      " [0.18825  0.339755 0.471996]\n"
     ]
    }
   ],
   "source": [
    "steps = 10**6\n",
    "start_state = 0\n",
    "pi = np.array([0, 0, 0])\n",
    "pi[start_state] = 1\n",
    "prev_state = start_state\n",
    "\n",
    "i = 0\n",
    "while i < steps:\n",
    "    curr_state = np.random.choice([0, 1, 2], p=A[prev_state])\n",
    "    pi[curr_state] += 1\n",
    "    prev_state = curr_state\n",
    "    i += 1\n",
    "\n",
    "print(\"π = \\n\", pi/steps)"
   ]
  },
  {
   "cell_type": "markdown",
   "metadata": {},
   "source": [
    "## Approach 2: Repeated Matrix Multiplication"
   ]
  },
  {
   "cell_type": "code",
   "execution_count": 28,
   "metadata": {},
   "outputs": [
    {
     "name": "stdout",
     "output_type": "stream",
     "text": [
      "A^n = \n",
      " [[0.18919621 0.33969614 0.47110765]\n",
      " [0.18919621 0.33969614 0.47110765]\n",
      " [0.18919621 0.33969614 0.47110765]] \n",
      "\n",
      "π =  [0.18919621 0.33969614 0.47110765]\n"
     ]
    }
   ],
   "source": [
    "steps = 10**3\n",
    "A_n = A\n",
    "\n",
    "i = 0\n",
    "while i < steps:\n",
    "    A_n = np.matmul(A_n, A)\n",
    "    i += 1\n",
    "    \n",
    "print(\"A^n = \\n\", A_n, \"\\n\")\n",
    "print(\"π = \", A_n[0])"
   ]
  },
  {
   "cell_type": "code",
   "execution_count": null,
   "metadata": {},
   "outputs": [],
   "source": []
  }
 ],
 "metadata": {
  "kernelspec": {
   "display_name": "Python 3 (ipykernel)",
   "language": "python",
   "name": "python3"
  },
  "language_info": {
   "codemirror_mode": {
    "name": "ipython",
    "version": 3
   },
   "file_extension": ".py",
   "mimetype": "text/x-python",
   "name": "python",
   "nbconvert_exporter": "python",
   "pygments_lexer": "ipython3",
   "version": "3.11.3"
  }
 },
 "nbformat": 4,
 "nbformat_minor": 2
}
