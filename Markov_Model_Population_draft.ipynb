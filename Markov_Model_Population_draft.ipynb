{
 "cells": [
  {
   "cell_type": "code",
   "execution_count": 1,
   "metadata": {
    "ExecuteTime": {
     "end_time": "2023-11-26T13:59:59.467503Z",
     "start_time": "2023-11-26T13:59:59.466227Z"
    }
   },
   "outputs": [],
   "source": [
    "import numpy as np"
   ]
  },
  {
   "cell_type": "markdown",
   "metadata": {},
   "source": [
    "# The Dynamics of Internal Migration in S. Korea: A Markov Chain Analysis"
   ]
  },
  {
   "cell_type": "markdown",
   "metadata": {},
   "source": [
    "<img src=\"https://velog.velcdn.com/images/neoseurae12/post/c5bd58b7-0033-4850-a198-000ea5bba435/image.jpeg\" width=\"420px\">"
   ]
  },
  {
   "cell_type": "code",
   "execution_count": 2,
   "metadata": {
    "ExecuteTime": {
     "end_time": "2023-11-26T13:59:59.470645Z",
     "start_time": "2023-11-26T13:59:59.468966Z"
    }
   },
   "outputs": [
    {
     "data": {
      "text/plain": [
       "{0: 'Seoul', 1: 'Metropolitan', 2: 'Rural'}"
      ]
     },
     "execution_count": 2,
     "metadata": {},
     "output_type": "execute_result"
    }
   ],
   "source": [
    "state = {\n",
    "    0: \"Seoul\",\n",
    "    1: \"Metropolitan\",\n",
    "    2: \"Rural\"\n",
    "}\n",
    "state"
   ]
  },
  {
   "cell_type": "markdown",
   "metadata": {},
   "source": [
    "## Transition Matrix\n",
    "<img src=\"https://velog.velcdn.com/images/neoseurae12/post/c2b43497-b224-45bf-97a8-bb8063be890e/image.jpeg\" width=\"350px\">\n",
    "<img src=\"https://velog.velcdn.com/images/neoseurae12/post/e45935ed-7cb5-4509-a30e-69f7edd48f30/image.jpeg\" width=\"350px\">"
   ]
  },
  {
   "cell_type": "code",
   "execution_count": 3,
   "metadata": {
    "ExecuteTime": {
     "end_time": "2023-11-26T13:59:59.474010Z",
     "start_time": "2023-11-26T13:59:59.472094Z"
    }
   },
   "outputs": [
    {
     "data": {
      "text/plain": [
       "array([[0.646, 0.246, 0.108],\n",
       "       [0.106, 0.796, 0.098],\n",
       "       [0.046, 0.066, 0.888]])"
      ]
     },
     "execution_count": 3,
     "metadata": {},
     "output_type": "execute_result"
    }
   ],
   "source": [
    "A = np.array(\n",
    "    [[0.646, 0.246, 0.108],\n",
    "    [0.106, 0.796, 0.098],\n",
    "    [0.046, 0.066, 0.888]])\n",
    "A"
   ]
  },
  {
   "cell_type": "markdown",
   "metadata": {},
   "source": [
    "## Random Walk on Markov Chain"
   ]
  },
  {
   "cell_type": "code",
   "execution_count": 4,
   "metadata": {
    "ExecuteTime": {
     "end_time": "2023-11-26T13:59:59.476749Z",
     "start_time": "2023-11-26T13:59:59.474931Z"
    }
   },
   "outputs": [
    {
     "name": "stdout",
     "output_type": "stream",
     "text": [
      "Rural ---> Rural ---> Rural ---> Rural ---> Rural ---> Rural ---> Metropolitan ---> Metropolitan ---> Rural ---> Rural ---> Rural ---> Rural ---> stop\n"
     ]
    }
   ],
   "source": [
    "n = 12\n",
    "start_state = 2\n",
    "print(state[start_state], \"--->\", end=\" \")\n",
    "prev_state = start_state\n",
    "\n",
    "while n - 1:\n",
    "    curr_state = np.random.choice([0, 1, 2], p=A[prev_state])\n",
    "    print(state[curr_state], \"--->\", end=\" \")\n",
    "    prev_state = curr_state\n",
    "    n -= 1\n",
    "print(\"stop\")"
   ]
  },
  {
   "cell_type": "markdown",
   "metadata": {},
   "source": [
    "## Approach 1: Monte Carlo"
   ]
  },
  {
   "cell_type": "code",
   "execution_count": 5,
   "metadata": {
    "ExecuteTime": {
     "end_time": "2023-11-26T14:00:05.518744Z",
     "start_time": "2023-11-26T13:59:59.481118Z"
    }
   },
   "outputs": [
    {
     "name": "stdout",
     "output_type": "stream",
     "text": [
      "π = \n",
      " [0.168099 0.358422 0.47348 ]\n"
     ]
    }
   ],
   "source": [
    "steps = 10**6\n",
    "start_state = 0\n",
    "pi = np.array([0, 0, 0])\n",
    "pi[start_state] = 1\n",
    "prev_state = start_state\n",
    "\n",
    "i = 0\n",
    "while i < steps:\n",
    "    curr_state = np.random.choice([0, 1, 2], p=A[prev_state])\n",
    "    pi[curr_state] += 1\n",
    "    prev_state = curr_state\n",
    "    i += 1\n",
    "\n",
    "print(\"π = \\n\", pi/steps)"
   ]
  },
  {
   "cell_type": "markdown",
   "metadata": {},
   "source": [
    "## Approach 2: Repeated Matrix Multiplication"
   ]
  },
  {
   "cell_type": "code",
   "execution_count": 6,
   "metadata": {
    "ExecuteTime": {
     "end_time": "2023-11-26T14:00:05.522953Z",
     "start_time": "2023-11-26T14:00:05.520678Z"
    }
   },
   "outputs": [
    {
     "name": "stdout",
     "output_type": "stream",
     "text": [
      "A^n = \n",
      " [[0.44836 0.36186 0.18978]\n",
      " [0.15736 0.66616 0.17648]\n",
      " [0.07756 0.12246 0.79998]] \n",
      "\n",
      "π =  [0.44836 0.36186 0.18978]\n",
      "A^n = \n",
      " [[0.3367276 0.4108626 0.2524098]\n",
      " [0.1803856 0.5806216 0.2389928]\n",
      " [0.0998836 0.1693566 0.7307598]] \n",
      "\n",
      "π =  [0.3367276 0.4108626 0.2524098]\n",
      "A^n = \n",
      " [[0.27268832 0.42654067 0.30077102]\n",
      " [0.18906866 0.52232318 0.28860817]\n",
      " [0.11609156 0.20760937 0.67629908]] \n",
      "\n",
      "π =  [0.27268832 0.42654067 0.30077102]\n",
      "A^n = \n",
      " [[0.23520543 0.42645858 0.33833599]\n",
      " [0.19078058 0.48132828 0.32789114]\n",
      " [0.1281115  0.23845132 0.63343719]] \n",
      "\n",
      "π =  [0.23520543 0.42645858 0.33833599]\n",
      "A^n = \n",
      " [[0.21271077 0.41965174 0.36763748]\n",
      " [0.18934805 0.45171015 0.35894181]\n",
      " [0.13717398 0.26312953 0.59969649]] \n",
      "\n",
      "π =  [0.21271077 0.41965174 0.36763748]\n",
      "A^n = \n",
      " [[0.19880557 0.41063371 0.39056072]\n",
      " [0.18671144 0.42983106 0.38345751]\n",
      " [0.14409216 0.28277587 0.57313197]] \n",
      "\n",
      "π =  [0.19880557 0.41063371 0.39056072]\n",
      "A^n = \n",
      " [[0.18992136 0.40154761 0.40853102]\n",
      " [0.18381673 0.41338473 0.40279854]\n",
      " [0.14942185 0.29836298 0.55221518]] \n",
      "\n",
      "π =  [0.18992136 0.40154761 0.40853102]\n",
      "A^n = \n",
      " [[0.18404567 0.3933156  0.42263872]\n",
      " [0.18109312 0.40085786 0.41804902]\n",
      " [0.15355489 0.3107009  0.53574421]] \n",
      "\n",
      "π =  [0.18404567 0.3933156  0.42263872]\n",
      "A^n = \n",
      " [[0.18002634 0.38624861 0.43372505]\n",
      " [0.17870734 0.391223   0.43006966]\n",
      " [0.15677499 0.32045154 0.52277347]] \n",
      "\n",
      "π =  [0.18002634 0.38624861 0.43372505]\n",
      "A^n = \n",
      " [[0.17719072 0.38036623 0.44244305]\n",
      " [0.17669779 0.38376011 0.4395421 ]\n",
      " [0.15929208 0.32814912 0.51255879]] \n",
      "\n",
      "π =  [0.17719072 0.38036623 0.44244305]\n"
     ]
    }
   ],
   "source": [
    "# steps = 10**3\n",
    "# A_n = A\n",
    "\n",
    "# i = 0\n",
    "# while i < steps:\n",
    "#     A_n = np.matmul(A_n, A)\n",
    "#     i += 1\n",
    "    \n",
    "# print(\"A^n = \\n\", A_n, \"\\n\")\n",
    "# print(\"π = \", A_n[0])\n",
    "\n",
    "steps = 10\n",
    "A_n = A\n",
    "\n",
    "i = 0\n",
    "while i < steps:\n",
    "    A_n = np.matmul(A_n, A)\n",
    "    i += 1\n",
    "\n",
    "    print(\"A^n = \\n\", A_n, \"\\n\")\n",
    "    print(\"π = \", A_n[0])\n"
   ]
  },
  {
   "cell_type": "markdown",
   "metadata": {},
   "source": [
    "## Approach 3: Finding Left Eigen Vectors"
   ]
  },
  {
   "cell_type": "code",
   "execution_count": 7,
   "metadata": {
    "ExecuteTime": {
     "end_time": "2023-11-26T14:00:05.524816Z",
     "start_time": "2023-11-26T14:00:05.523172Z"
    }
   },
   "outputs": [
    {
     "name": "stdout",
     "output_type": "stream",
     "text": [
      "left eigen vectors = \n",
      " [[ 0.72122223 -0.27300355 -0.18966169]\n",
      " [-0.69209094 -0.57800751 -0.59293462]\n",
      " [-0.02913129 -0.76901     0.78259631]] \n",
      "\n",
      "eigen values = \n",
      " [0.54242349+0.j 1.        +0.j 0.78757651+0.j]\n"
     ]
    }
   ],
   "source": [
    "import scipy.linalg\n",
    "values, left = scipy.linalg.eig(A, right=False, left=True)\n",
    "\n",
    "print(\"left eigen vectors = \\n\", left, \"\\n\")\n",
    "print(\"eigen values = \\n\", values)"
   ]
  },
  {
   "cell_type": "code",
   "execution_count": 8,
   "metadata": {
    "ExecuteTime": {
     "end_time": "2023-11-26T14:00:05.527078Z",
     "start_time": "2023-11-26T14:00:05.525504Z"
    }
   },
   "outputs": [
    {
     "data": {
      "text/plain": [
       "[3248096149779291.0, -3116900496653948.0, -131195653125342.0]"
      ]
     },
     "execution_count": 8,
     "metadata": {},
     "output_type": "execute_result"
    }
   ],
   "source": [
    "pi = left[:,0]\n",
    "pi_normalized = [(x/np.sum(pi)).real for x in pi]\n",
    "pi_normalized"
   ]
  },
  {
   "cell_type": "markdown",
   "metadata": {},
   "source": [
    "# Prediction: 2011-2022"
   ]
  },
  {
   "cell_type": "code",
   "execution_count": 28,
   "metadata": {},
   "outputs": [
    {
     "name": "stdout",
     "output_type": "stream",
     "text": [
      "10108426 14899112 25726745\n",
      "2011년: 서울 0.19924251220816505, 수도권 0.2936695094321132,  비수도권 0.5070879783597217\n",
      "9994795 15030773 25708713\n",
      "2012년: 서울 0.19700279185980776, 수도권 0.2962646302211319,  비수도권 0.5067325779190603\n",
      "9888819 15161921 25683539\n",
      "2013년: 서울 0.19491395551319454, 수도권 0.2988496397080956,  비수도권 0.5062364047787099\n",
      "9779201 15311363 25643713\n",
      "2014년: 서울 0.19275333321493868, 수도권 0.30179523401900454,  비수도권 0.5054514327660568\n",
      "9655418 15454996 25623861\n",
      "2015년: 서울 0.1903135109351617, 수도권 0.30462633003033945,  비수도권 0.5050601590344989\n",
      "9533201 15589608 25611465\n",
      "2016년: 서울 0.18790455146751484, 수도권 0.3072796114121984,  비수도권 0.5048158371202868\n",
      "9428069 15717099 25589105\n",
      "2017년: 서울 0.18583234650864122, 수도권 0.30979253413171015,  비수도권 0.5043751193596486\n",
      "9347636 15813600 25573035\n",
      "2018년: 서울 0.18424697577698515, 수도권 0.31169463339682163,  비수도권 0.5040583908261932\n",
      "9281751 15906901 25545618\n",
      "2019년: 서울 0.18294835029655498, 수도권 0.3135336528937935,  비수도권 0.5035179968096516\n",
      "9196562 16008974 25528732\n",
      "2020년: 서울 0.18126923601223535, 수도권 0.31554557956764057,  비수도권 0.503185184420124\n",
      "9122097 16094127 25518043\n",
      "2021년: 서울 0.1798014939291426, 수도권 0.3172239977370719,  비수도권 0.5029745083337855\n",
      "9084550 16155615 25494101\n",
      "2022년: 서울 0.17906142566446118, 수도권 0.31843596594065243,  비수도권 0.5025026083948864\n"
     ]
    }
   ],
   "source": [
    "seoul_prev = 10_249_679\n",
    "metropolitan_prev = 14_738_689\n",
    "rural_prev = 25_745_916\n",
    "\n",
    "mover = [[1_834_806, 2_457_381, 3_835_008], \n",
    "         [1658928, 2303081, 3544682], \n",
    "         [1620640, 2260881, 3530263],\n",
    "         [1661425, 2277352, 3690321],\n",
    "         [1726687, 2361997, 3666602],\n",
    "         [1655859, 2260845, 3461726],\n",
    "         [1571423, 2183297, 3399506],\n",
    "         [1549937, 2305327, 3441835],\n",
    "         [1476081, 2228647, 3399670],\n",
    "         [1642977, 2444503, 3648011],\n",
    "         [1524430, 2307412, 3381580],\n",
    "         [1236867, 1969147, 2946141]]\n",
    "\n",
    "for i in range(2011, 2023):\n",
    "    seoul_mover = mover[i - 2011][0]\n",
    "    metropolitan_mover = mover[i - 2011][1]\n",
    "    rural_mover = mover[i - 2011][2]\n",
    "\n",
    "    #print(seoul_mover, metropolitan_mover, rural_mover)\n",
    "\n",
    "    seoul_now = int((seoul_prev - seoul_mover) + seoul_mover * 0.646 + metropolitan_mover * 0.121 + rural_mover * 0.055)\n",
    "    metropolitan_now = int((metropolitan_prev - metropolitan_mover) + seoul_mover * 0.246 + metropolitan_mover * 0.763 + rural_mover * 0.076)\n",
    "    rural_now = int((rural_prev - rural_mover) + seoul_mover * 0.108 + metropolitan_mover * 0.116 + rural_mover * 0.869)\n",
    "\n",
    "    print(seoul_now, metropolitan_now, rural_now)\n",
    "\n",
    "    all_now = seoul_now + metropolitan_now + rural_now\n",
    "\n",
    "    seoul_ratio = seoul_now / all_now\n",
    "    metropolitan_ratio = metropolitan_now / all_now\n",
    "    rural_ratio = rural_now / all_now\n",
    "\n",
    "    result = f'{i}년: 서울 {seoul_ratio}, 수도권 {metropolitan_ratio},  비수도권 {rural_ratio}'\n",
    "    print(result)\n",
    "\n",
    "    seoul_prev = seoul_now\n",
    "    metropolitan_prev = metropolitan_now\n",
    "    rural_prev = rural_now"
   ]
  }
 ],
 "metadata": {
  "kernelspec": {
   "display_name": "Python 3 (ipykernel)",
   "language": "python",
   "name": "python3"
  },
  "language_info": {
   "codemirror_mode": {
    "name": "ipython",
    "version": 3
   },
   "file_extension": ".py",
   "mimetype": "text/x-python",
   "name": "python",
   "nbconvert_exporter": "python",
   "pygments_lexer": "ipython3",
   "version": "3.11.3"
  }
 },
 "nbformat": 4,
 "nbformat_minor": 2
}
