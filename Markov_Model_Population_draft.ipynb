{
 "cells": [
  {
   "cell_type": "code",
   "execution_count": 1,
   "metadata": {
    "ExecuteTime": {
     "end_time": "2023-11-24T13:14:11.267097Z",
     "start_time": "2023-11-24T13:14:11.258003Z"
    }
   },
   "outputs": [],
   "source": [
    "import numpy as np"
   ]
  },
  {
   "cell_type": "markdown",
   "metadata": {},
   "source": [
    "# The Dynamics of Internal Migration in S. Korea: A Markov Chain Analysis"
   ]
  },
  {
   "cell_type": "markdown",
   "metadata": {},
   "source": [
    "<img src=\"https://velog.velcdn.com/images/neoseurae12/post/c5bd58b7-0033-4850-a198-000ea5bba435/image.jpeg\" width=\"420px\">"
   ]
  },
  {
   "cell_type": "code",
   "execution_count": 2,
   "metadata": {
    "is_executing": true
   },
   "outputs": [
    {
     "data": {
      "text/plain": [
       "{0: 'Seoul', 1: 'Metropolitan', 2: 'Rural'}"
      ]
     },
     "execution_count": 2,
     "metadata": {},
     "output_type": "execute_result"
    }
   ],
   "source": [
    "state = {\n",
    "    0: \"Seoul\",\n",
    "    1: \"Metropolitan\",\n",
    "    2: \"Rural\"\n",
    "}\n",
    "state"
   ]
  },
  {
   "cell_type": "markdown",
   "metadata": {},
   "source": [
    "## Transition Matrix\n",
    "<img src=\"https://velog.velcdn.com/images/neoseurae12/post/c2b43497-b224-45bf-97a8-bb8063be890e/image.jpeg\" width=\"350px\">\n",
    "<img src=\"https://velog.velcdn.com/images/neoseurae12/post/e45935ed-7cb5-4509-a30e-69f7edd48f30/image.jpeg\" width=\"350px\">"
   ]
  },
  {
   "cell_type": "code",
   "execution_count": 3,
   "metadata": {
    "ExecuteTime": {
     "end_time": "2023-11-24T13:14:11.779600Z",
     "start_time": "2023-11-24T13:14:11.776053Z"
    }
   },
   "outputs": [
    {
     "data": {
      "text/plain": [
       "array([[0.646, 0.246, 0.108],\n",
       "       [0.121, 0.763, 0.116],\n",
       "       [0.055, 0.076, 0.869]])"
      ]
     },
     "execution_count": 3,
     "metadata": {},
     "output_type": "execute_result"
    }
   ],
   "source": [
    "A = np.array(\n",
    "    [[0.646, 0.246, 0.108],\n",
    "    [0.121, 0.763, 0.116],\n",
    "    [0.055, 0.076, 0.869]])\n",
    "A"
   ]
  },
  {
   "cell_type": "markdown",
   "metadata": {},
   "source": [
    "## Random Walk on Markov Chain"
   ]
  },
  {
   "cell_type": "code",
   "execution_count": 4,
   "metadata": {
    "ExecuteTime": {
     "end_time": "2023-11-24T13:14:11.787103Z",
     "start_time": "2023-11-24T13:14:11.783377Z"
    }
   },
   "outputs": [
    {
     "name": "stdout",
     "output_type": "stream",
     "text": [
      "Rural ---> Rural ---> Rural ---> Rural ---> Rural ---> Rural ---> Rural ---> Seoul ---> Metropolitan ---> Metropolitan ---> Seoul ---> Seoul ---> stop\n"
     ]
    }
   ],
   "source": [
    "n = 12\n",
    "start_state = 2\n",
    "print(state[start_state], \"--->\", end=\" \")\n",
    "prev_state = start_state\n",
    "\n",
    "while n - 1:\n",
    "    curr_state = np.random.choice([0, 1, 2], p=A[prev_state])\n",
    "    print(state[curr_state], \"--->\", end=\" \")\n",
    "    prev_state = curr_state\n",
    "    n -= 1\n",
    "print(\"stop\")"
   ]
  },
  {
   "cell_type": "markdown",
   "metadata": {},
   "source": [
    "## Approach 1: Monte Carlo"
   ]
  },
  {
   "cell_type": "code",
   "execution_count": 5,
   "metadata": {
    "ExecuteTime": {
     "end_time": "2023-11-24T13:14:19.959976Z",
     "start_time": "2023-11-24T13:14:11.792598Z"
    }
   },
   "outputs": [
    {
     "name": "stdout",
     "output_type": "stream",
     "text": [
      "π = \n",
      " [0.189963 0.346825 0.463213]\n"
     ]
    }
   ],
   "source": [
    "steps = 10**6\n",
    "start_state = 0\n",
    "pi = np.array([0, 0, 0])\n",
    "pi[start_state] = 1\n",
    "prev_state = start_state\n",
    "\n",
    "i = 0\n",
    "while i < steps:\n",
    "    curr_state = np.random.choice([0, 1, 2], p=A[prev_state])\n",
    "    pi[curr_state] += 1\n",
    "    prev_state = curr_state\n",
    "    i += 1\n",
    "\n",
    "print(\"π = \\n\", pi/steps)"
   ]
  },
  {
   "cell_type": "markdown",
   "metadata": {},
   "source": [
    "## Approach 2: Repeated Matrix Multiplication"
   ]
  },
  {
   "cell_type": "code",
   "execution_count": 10,
   "metadata": {
    "ExecuteTime": {
     "end_time": "2023-11-24T13:14:19.963425Z",
     "start_time": "2023-11-24T13:14:19.961584Z"
    }
   },
   "outputs": [
    {
     "name": "stdout",
     "output_type": "stream",
     "text": [
      "A^n = \n",
      " [[0.19033879 0.3461904  0.46347081]\n",
      " [0.19033879 0.3461904  0.46347081]\n",
      " [0.19033879 0.3461904  0.46347081]] \n",
      "\n",
      "π =  [0.19033879 0.3461904  0.46347081]\n"
     ]
    }
   ],
   "source": [
    "steps = 10**3\n",
    "A_n = A\n",
    "\n",
    "i = 0\n",
    "while i < steps:\n",
    "    A_n = np.matmul(A_n, A)\n",
    "    i += 1\n",
    "    \n",
    "print(\"A^n = \\n\", A_n, \"\\n\")\n",
    "print(\"π = \", A_n[0])"
   ]
  },
  {
   "cell_type": "markdown",
   "metadata": {},
   "source": [
    "## Approach 3: Finding Left Eigen Vectors"
   ]
  },
  {
   "cell_type": "code",
   "execution_count": 7,
   "metadata": {
    "ExecuteTime": {
     "end_time": "2023-11-24T13:14:19.966936Z",
     "start_time": "2023-11-24T13:14:19.964273Z"
    }
   },
   "outputs": [
    {
     "name": "stdout",
     "output_type": "stream",
     "text": [
      "left eigen vectors = \n",
      " [[ 0.31254282  0.69473091 -0.22720446]\n",
      " [ 0.5684565  -0.71886475 -0.56557639]\n",
      " [ 0.76103495  0.02413384  0.79278085]] \n",
      "\n",
      "eigen values = \n",
      " [1.        +0.j 0.52270727+0.j 0.75529273+0.j]\n"
     ]
    }
   ],
   "source": [
    "import scipy.linalg\n",
    "values, left = scipy.linalg.eig(A, right=False, left=True)\n",
    "\n",
    "print(\"left eigen vectors = \\n\", left, \"\\n\")\n",
    "print(\"eigen values = \\n\", values)"
   ]
  },
  {
   "cell_type": "code",
   "execution_count": 8,
   "metadata": {
    "ExecuteTime": {
     "end_time": "2023-11-24T13:14:19.969566Z",
     "start_time": "2023-11-24T13:14:19.967741Z"
    }
   },
   "outputs": [
    {
     "data": {
      "text/plain": [
       "[0.19033879294844838, 0.3461903987259954, 0.46347080832555626]"
      ]
     },
     "execution_count": 8,
     "metadata": {},
     "output_type": "execute_result"
    }
   ],
   "source": [
    "pi = left[:,0]\n",
    "pi_normalized = [(x/np.sum(pi)).real for x in pi]\n",
    "pi_normalized"
   ]
  }
 ],
 "metadata": {
  "kernelspec": {
   "display_name": "Python 3 (ipykernel)",
   "language": "python",
   "name": "python3"
  },
  "language_info": {
   "codemirror_mode": {
    "name": "ipython",
    "version": 3
   },
   "file_extension": ".py",
   "mimetype": "text/x-python",
   "name": "python",
   "nbconvert_exporter": "python",
   "pygments_lexer": "ipython3",
   "version": "3.11.3"
  }
 },
 "nbformat": 4,
 "nbformat_minor": 2
}
